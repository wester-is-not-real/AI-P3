{
 "cells": [
  {
   "cell_type": "code",
   "execution_count": null,
   "id": "ca0a62db-d2de-41ef-979c-f945caaab0fb",
   "metadata": {},
   "outputs": [],
   "source": []
  }
 ],
 "metadata": {
  "kernelspec": {
   "display_name": "",
   "name": ""
  },
  "language_info": {
   "name": ""
  }
 },
 "nbformat": 4,
 "nbformat_minor": 5
}
